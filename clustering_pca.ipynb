{
 "cells": [
  {
   "cell_type": "code",
   "execution_count": 2,
   "id": "44898860-50a6-4966-b22e-cc13848c9b01",
   "metadata": {},
   "outputs": [],
   "source": [
    "################# Importing packages\n",
    "import pyreadr as pr\n",
    "import pandas as pd\n",
    "import numpy as np\n",
    "import matplotlib.pyplot as plt\n",
    "from sklearn.decomposition import PCA\n",
    "from sklearn import preprocessing"
   ]
  },
  {
   "cell_type": "code",
   "execution_count": 3,
   "id": "2d863b5d-44f3-4d33-95c2-b5a080dd0b8c",
   "metadata": {},
   "outputs": [],
   "source": [
    "cell_data = pr.read_r(\"rdata/all_rda_data/cellUperDiagData50.rda\")"
   ]
  },
  {
   "cell_type": "code",
   "execution_count": 4,
   "id": "ddd77ff8-46ee-4086-beb6-afbefefc51b3",
   "metadata": {},
   "outputs": [
    {
     "name": "stdout",
     "output_type": "stream",
     "text": [
      "odict_keys(['cellUperDiagData50'])\n"
     ]
    }
   ],
   "source": [
    "print(cell_data.keys())"
   ]
  },
  {
   "cell_type": "code",
   "execution_count": 5,
   "id": "278c2438-d9e6-4c3a-bb8f-8b67f27e12ec",
   "metadata": {},
   "outputs": [],
   "source": [
    "cellUperDiagData50 = cell_data['cellUperDiagData50']"
   ]
  },
  {
   "cell_type": "code",
   "execution_count": null,
   "id": "f58f6443-3d89-4db4-8b0c-e76f0a425dcb",
   "metadata": {},
   "outputs": [],
   "source": [
    "# cellUperDiagData = pd.read_csv(\"rdata/all_rda_data/cellUperDiagData50_.csv\")"
   ]
  },
  {
   "cell_type": "code",
   "execution_count": 6,
   "id": "41c1f39d-9b1a-4e4c-9600-ee0726536034",
   "metadata": {},
   "outputs": [
    {
     "data": {
      "text/plain": [
       "(2000, 157641)"
      ]
     },
     "execution_count": 6,
     "metadata": {},
     "output_type": "execute_result"
    }
   ],
   "source": [
    "cellUperDiagData50.shape"
   ]
  },
  {
   "cell_type": "code",
   "execution_count": 7,
   "id": "089d4796-bafd-4b61-9f80-cccbf89a2868",
   "metadata": {},
   "outputs": [
    {
     "data": {
      "text/html": [
       "<div>\n",
       "<style scoped>\n",
       "    .dataframe tbody tr th:only-of-type {\n",
       "        vertical-align: middle;\n",
       "    }\n",
       "\n",
       "    .dataframe tbody tr th {\n",
       "        vertical-align: top;\n",
       "    }\n",
       "\n",
       "    .dataframe thead th {\n",
       "        text-align: right;\n",
       "    }\n",
       "</style>\n",
       "<table border=\"1\" class=\"dataframe\">\n",
       "  <thead>\n",
       "    <tr style=\"text-align: right;\">\n",
       "      <th></th>\n",
       "      <th>0</th>\n",
       "      <th>1</th>\n",
       "      <th>2</th>\n",
       "      <th>3</th>\n",
       "      <th>4</th>\n",
       "      <th>5</th>\n",
       "      <th>6</th>\n",
       "      <th>7</th>\n",
       "      <th>8</th>\n",
       "      <th>9</th>\n",
       "      <th>...</th>\n",
       "      <th>157631</th>\n",
       "      <th>157632</th>\n",
       "      <th>157633</th>\n",
       "      <th>157634</th>\n",
       "      <th>157635</th>\n",
       "      <th>157636</th>\n",
       "      <th>157637</th>\n",
       "      <th>157638</th>\n",
       "      <th>157639</th>\n",
       "      <th>157640</th>\n",
       "    </tr>\n",
       "  </thead>\n",
       "  <tbody>\n",
       "    <tr>\n",
       "      <th>cellule_1_rep1</th>\n",
       "      <td>0.0</td>\n",
       "      <td>0.0</td>\n",
       "      <td>1.0</td>\n",
       "      <td>0.0</td>\n",
       "      <td>1.0</td>\n",
       "      <td>0.0</td>\n",
       "      <td>0.0</td>\n",
       "      <td>0.0</td>\n",
       "      <td>1.0</td>\n",
       "      <td>0.0</td>\n",
       "      <td>...</td>\n",
       "      <td>0.0</td>\n",
       "      <td>0.0</td>\n",
       "      <td>0.0</td>\n",
       "      <td>0.0</td>\n",
       "      <td>0.0</td>\n",
       "      <td>0.0</td>\n",
       "      <td>0.0</td>\n",
       "      <td>0.0</td>\n",
       "      <td>0.0</td>\n",
       "      <td>0.0</td>\n",
       "    </tr>\n",
       "    <tr>\n",
       "      <th>cellule_2_rep2</th>\n",
       "      <td>0.0</td>\n",
       "      <td>0.0</td>\n",
       "      <td>0.0</td>\n",
       "      <td>0.0</td>\n",
       "      <td>1.0</td>\n",
       "      <td>0.0</td>\n",
       "      <td>0.0</td>\n",
       "      <td>0.0</td>\n",
       "      <td>1.0</td>\n",
       "      <td>0.0</td>\n",
       "      <td>...</td>\n",
       "      <td>0.0</td>\n",
       "      <td>0.0</td>\n",
       "      <td>0.0</td>\n",
       "      <td>0.0</td>\n",
       "      <td>0.0</td>\n",
       "      <td>0.0</td>\n",
       "      <td>0.0</td>\n",
       "      <td>0.0</td>\n",
       "      <td>0.0</td>\n",
       "      <td>0.0</td>\n",
       "    </tr>\n",
       "    <tr>\n",
       "      <th>cellule_3_rep3</th>\n",
       "      <td>0.0</td>\n",
       "      <td>0.0</td>\n",
       "      <td>1.0</td>\n",
       "      <td>0.0</td>\n",
       "      <td>1.0</td>\n",
       "      <td>0.0</td>\n",
       "      <td>0.0</td>\n",
       "      <td>0.0</td>\n",
       "      <td>1.0</td>\n",
       "      <td>0.0</td>\n",
       "      <td>...</td>\n",
       "      <td>0.0</td>\n",
       "      <td>0.0</td>\n",
       "      <td>0.0</td>\n",
       "      <td>0.0</td>\n",
       "      <td>0.0</td>\n",
       "      <td>0.0</td>\n",
       "      <td>0.0</td>\n",
       "      <td>0.0</td>\n",
       "      <td>0.0</td>\n",
       "      <td>0.0</td>\n",
       "    </tr>\n",
       "    <tr>\n",
       "      <th>cellule_4_rep4</th>\n",
       "      <td>0.0</td>\n",
       "      <td>0.0</td>\n",
       "      <td>0.0</td>\n",
       "      <td>0.0</td>\n",
       "      <td>1.0</td>\n",
       "      <td>0.0</td>\n",
       "      <td>0.0</td>\n",
       "      <td>0.0</td>\n",
       "      <td>1.0</td>\n",
       "      <td>0.0</td>\n",
       "      <td>...</td>\n",
       "      <td>0.0</td>\n",
       "      <td>0.0</td>\n",
       "      <td>0.0</td>\n",
       "      <td>0.0</td>\n",
       "      <td>0.0</td>\n",
       "      <td>0.0</td>\n",
       "      <td>0.0</td>\n",
       "      <td>0.0</td>\n",
       "      <td>0.0</td>\n",
       "      <td>0.0</td>\n",
       "    </tr>\n",
       "    <tr>\n",
       "      <th>cellule_5_rep5</th>\n",
       "      <td>0.0</td>\n",
       "      <td>0.0</td>\n",
       "      <td>0.0</td>\n",
       "      <td>0.0</td>\n",
       "      <td>1.0</td>\n",
       "      <td>0.0</td>\n",
       "      <td>0.0</td>\n",
       "      <td>0.0</td>\n",
       "      <td>1.0</td>\n",
       "      <td>0.0</td>\n",
       "      <td>...</td>\n",
       "      <td>0.0</td>\n",
       "      <td>0.0</td>\n",
       "      <td>0.0</td>\n",
       "      <td>0.0</td>\n",
       "      <td>0.0</td>\n",
       "      <td>0.0</td>\n",
       "      <td>0.0</td>\n",
       "      <td>0.0</td>\n",
       "      <td>0.0</td>\n",
       "      <td>0.0</td>\n",
       "    </tr>\n",
       "  </tbody>\n",
       "</table>\n",
       "<p>5 rows × 157641 columns</p>\n",
       "</div>"
      ],
      "text/plain": [
       "                0       1       2       3       4       5       6       \\\n",
       "cellule_1_rep1     0.0     0.0     1.0     0.0     1.0     0.0     0.0   \n",
       "cellule_2_rep2     0.0     0.0     0.0     0.0     1.0     0.0     0.0   \n",
       "cellule_3_rep3     0.0     0.0     1.0     0.0     1.0     0.0     0.0   \n",
       "cellule_4_rep4     0.0     0.0     0.0     0.0     1.0     0.0     0.0   \n",
       "cellule_5_rep5     0.0     0.0     0.0     0.0     1.0     0.0     0.0   \n",
       "\n",
       "                7       8       9       ...  157631  157632  157633  157634  \\\n",
       "cellule_1_rep1     0.0     1.0     0.0  ...     0.0     0.0     0.0     0.0   \n",
       "cellule_2_rep2     0.0     1.0     0.0  ...     0.0     0.0     0.0     0.0   \n",
       "cellule_3_rep3     0.0     1.0     0.0  ...     0.0     0.0     0.0     0.0   \n",
       "cellule_4_rep4     0.0     1.0     0.0  ...     0.0     0.0     0.0     0.0   \n",
       "cellule_5_rep5     0.0     1.0     0.0  ...     0.0     0.0     0.0     0.0   \n",
       "\n",
       "                157635  157636  157637  157638  157639  157640  \n",
       "cellule_1_rep1     0.0     0.0     0.0     0.0     0.0     0.0  \n",
       "cellule_2_rep2     0.0     0.0     0.0     0.0     0.0     0.0  \n",
       "cellule_3_rep3     0.0     0.0     0.0     0.0     0.0     0.0  \n",
       "cellule_4_rep4     0.0     0.0     0.0     0.0     0.0     0.0  \n",
       "cellule_5_rep5     0.0     0.0     0.0     0.0     0.0     0.0  \n",
       "\n",
       "[5 rows x 157641 columns]"
      ]
     },
     "execution_count": 7,
     "metadata": {},
     "output_type": "execute_result"
    }
   ],
   "source": [
    "cellUperDiagData50.head()"
   ]
  },
  {
   "cell_type": "code",
   "execution_count": null,
   "id": "04be5e93-1e86-4cc8-be0f-7579bf7505da",
   "metadata": {},
   "outputs": [],
   "source": [
    "cellUperDiagData20 = cellUperDiagData50.iloc[:, :-1].values"
   ]
  },
  {
   "cell_type": "code",
   "execution_count": null,
   "id": "54e398ef-afd1-4c32-ab74-105291d2a6a8",
   "metadata": {},
   "outputs": [],
   "source": [
    "cellUperDiagData_scaled = preprocessing.scale(cellUperDiagData50)"
   ]
  },
  {
   "cell_type": "code",
   "execution_count": 9,
   "id": "90a6c7e3-8d49-446a-be0d-52c575c45c77",
   "metadata": {},
   "outputs": [],
   "source": [
    "pca = PCA()"
   ]
  },
  {
   "cell_type": "code",
   "execution_count": null,
   "id": "0d93466b-dbca-4b62-ab87-a24afdd34a9f",
   "metadata": {},
   "outputs": [],
   "source": [
    "pca.fit(cellUperDiagData50)"
   ]
  },
  {
   "cell_type": "code",
   "execution_count": null,
   "id": "bfc0ee14-11ef-4a34-8a9f-857401c74187",
   "metadata": {},
   "outputs": [],
   "source": [
    "cellUperDiagData_pca = pca.transf"
   ]
  },
  {
   "cell_type": "code",
   "execution_count": null,
   "id": "aa6892f7-fd14-4bb1-9229-2deff8db493c",
   "metadata": {},
   "outputs": [],
   "source": []
  }
 ],
 "metadata": {
  "kernelspec": {
   "display_name": "Python 3 (ipykernel)",
   "language": "python",
   "name": "python3"
  },
  "language_info": {
   "codemirror_mode": {
    "name": "ipython",
    "version": 3
   },
   "file_extension": ".py",
   "mimetype": "text/x-python",
   "name": "python",
   "nbconvert_exporter": "python",
   "pygments_lexer": "ipython3",
   "version": "3.11.4"
  }
 },
 "nbformat": 4,
 "nbformat_minor": 5
}
